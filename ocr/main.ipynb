{
 "cells": [
  {
   "cell_type": "markdown",
   "metadata": {},
   "source": [
    "# OCR model"
   ]
  },
  {
   "cell_type": "markdown",
   "metadata": {},
   "source": [
    "### Install required packages"
   ]
  },
  {
   "cell_type": "code",
   "execution_count": 16,
   "metadata": {},
   "outputs": [
    {
     "name": "stdout",
     "output_type": "stream",
     "text": [
      "Note: you may need to restart the kernel to use updated packages.\n"
     ]
    }
   ],
   "source": [
    "%pip install -q -r requirements.txt"
   ]
  },
  {
   "cell_type": "markdown",
   "metadata": {},
   "source": [
    "### Import the required libraries and configure Tesseract OCR"
   ]
  },
  {
   "cell_type": "code",
   "execution_count": 17,
   "metadata": {},
   "outputs": [],
   "source": [
    "import os\n",
    "import cv2\n",
    "import pytesseract\n",
    "import numpy as np\n",
    "from pdf2image import convert_from_path\n",
    "import shutil\n",
    "from IPython.display import display, FileLink\n",
    "import ipywidgets as widgets\n",
    "from concurrent.futures import ThreadPoolExecutor, as_completed\n",
    "\n",
    "# Configurare il percorso dell'eseguibile Tesseract (modifica il percorso se necessario)\n",
    "pytesseract.pytesseract.tesseract_cmd = r'C:\\Program Files\\Tesseract-OCR\\tesseract.exe'\n",
    "\n",
    "# Configurare la cartella di upload\n",
    "UPLOAD_FOLDER = \"uploads/\"\n",
    "if not os.path.exists(UPLOAD_FOLDER):\n",
    "    os.makedirs(UPLOAD_FOLDER)\n",
    "\n",
    "# Configurare la cartella di output\n",
    "PROJECT_DIR = \"output\"\n",
    "if not os.path.exists(PROJECT_DIR):\n",
    "    os.makedirs(PROJECT_DIR)\n"
   ]
  },
  {
   "cell_type": "markdown",
   "metadata": {},
   "source": [
    "### Conversions Functions"
   ]
  },
  {
   "cell_type": "code",
   "execution_count": 18,
   "metadata": {},
   "outputs": [],
   "source": [
    "def pdf_to_images(pdf_path):\n",
    "    images = convert_from_path(pdf_path)\n",
    "    images = [np.array(image) for image in images]  # Converti in numpy.ndarray\n",
    "    return images\n",
    "\n",
    "\n",
    "def ocr_image(image):\n",
    "    if isinstance(image, np.ndarray):\n",
    "        if len(image.shape) == 3:\n",
    "            if image.shape[2] == 3:\n",
    "                gray = cv2.cvtColor(image, cv2.COLOR_BGR2GRAY)\n",
    "                text = pytesseract.image_to_string(gray, lang='eng')\n",
    "                return text\n",
    "            else:\n",
    "                raise ValueError(\"Input image should have 3 channels (BGR format)\")\n",
    "        else:\n",
    "            raise ValueError(\"Input image should have 3 dimensions (height, width, channels)\")\n",
    "    else:\n",
    "        raise TypeError(\"Input should be a numpy.ndarray\")\n",
    "\n",
    "def text_to_latex(text):\n",
    "    latex_text = \"\\\\documentclass{article}\\n\\\\begin{document}\\n\"\n",
    "    latex_text += text.replace(\"\\n\", \"\\\\\\\\ \\n\")\n",
    "    latex_text += \"\\n\\\\end{document}\"\n",
    "    return latex_text\n"
   ]
  },
  {
   "cell_type": "markdown",
   "metadata": {},
   "source": [
    "### Upload and process PDF files"
   ]
  },
  {
   "cell_type": "code",
   "execution_count": 19,
   "metadata": {},
   "outputs": [],
   "source": [
    "def process_pdf(file_path):\n",
    "    images = pdf_to_images(file_path)\n",
    "    full_text = \"\"\n",
    "\n",
    "    tasks = {}\n",
    "    with ThreadPoolExecutor(max_workers=len(images)) as executor:\n",
    "        for i, image in enumerate(images):\n",
    "            task = executor.submit(ocr_image, image)\n",
    "            tasks[i] = task\n",
    "    \n",
    "    all_responses = [None] * len(images)  # Crea una lista con la lunghezza delle immagini\n",
    "    for i in tasks:\n",
    "        future = tasks[i]\n",
    "        result = future.result()\n",
    "        all_responses[i] = result  # Memorizza il risultato nella posizione corretta\n",
    "\n",
    "    full_text = \"\\n\".join(all_responses)\n",
    "\n",
    "    # latex_code = text_to_latex(full_text)\n",
    "\n",
    "    # with open(os.path.join(PROJECT_DIR, \"main.tex\"), \"w\") as f:\n",
    "    #     f.write(latex_code)\n",
    "    # shutil.make_archive(\"latex_project\", \"zip\", PROJECT_DIR)\n",
    "    # return \"latex_project.zip\"\n",
    "\n",
    "    with open(os.path.join(PROJECT_DIR, \"output.txt\"), \"w\") as f:\n",
    "        f.write(full_text)\n",
    "    return os.path.join(PROJECT_DIR, \"output.txt\")\n"
   ]
  },
  {
   "cell_type": "markdown",
   "metadata": {},
   "source": [
    "### Interface"
   ]
  },
  {
   "cell_type": "code",
   "execution_count": 20,
   "metadata": {},
   "outputs": [
    {
     "data": {
      "application/vnd.jupyter.widget-view+json": {
       "model_id": "3118ed66cf4b4ff580dd37d14faf712d",
       "version_major": 2,
       "version_minor": 0
      },
      "text/plain": [
       "FileUpload(value=(), accept='.pdf', description='Upload')"
      ]
     },
     "metadata": {},
     "output_type": "display_data"
    },
    {
     "data": {
      "application/vnd.jupyter.widget-view+json": {
       "model_id": "cbd76d74818d4ced83f6a656746dad25",
       "version_major": 2,
       "version_minor": 0
      },
      "text/plain": [
       "Button(description='Processa PDF', style=ButtonStyle())"
      ]
     },
     "metadata": {},
     "output_type": "display_data"
    },
    {
     "data": {
      "text/html": [
       "<a href='output.zip' target='_blank'>output.zip</a><br>"
      ],
      "text/plain": [
       "c:\\Users\\Utente\\OneDrive - University of Pisa\\AIDE\\1° anno\\Business and Project Management\\Project\\biz-project\\ocr\\output.zip"
      ]
     },
     "metadata": {},
     "output_type": "display_data"
    }
   ],
   "source": [
    "# Caricare il file PDF\n",
    "file_upload = widgets.FileUpload(accept='.pdf', multiple=False)\n",
    "display(file_upload)\n",
    "\n",
    "# Pulsante per processare il file\n",
    "def on_button_clicked(b):\n",
    "    if file_upload.value:\n",
    "        # Accedi al primo elemento della tupla se presente\n",
    "        if isinstance(file_upload.value, tuple) and len(file_upload.value) > 0:\n",
    "            file_info = file_upload.value[0]\n",
    "            file_name = file_info['name']  # Nome del file\n",
    "            file_content = file_info['content']  # Contenuto del file\n",
    "            file_path = os.path.join(UPLOAD_FOLDER, file_name)  # Percorso del file\n",
    "\n",
    "            # Salva il contenuto del file\n",
    "            with open(file_path, 'wb') as f:\n",
    "                f.write(file_content)\n",
    "\n",
    "            # Processa il file PDF e genera l'output\n",
    "            file_path = process_pdf(file_path)\n",
    "\n",
    "            # Mostra il link per scaricare il file .zip\n",
    "            display(FileLink(file_path))\n",
    "        else:\n",
    "            print(\"Nessun file caricato!\")\n",
    "\n",
    "button = widgets.Button(description=\"Processa PDF\")\n",
    "button.on_click(on_button_clicked)\n",
    "display(button)\n"
   ]
  }
 ],
 "metadata": {
  "kernelspec": {
   "display_name": ".venv",
   "language": "python",
   "name": "python3"
  },
  "language_info": {
   "codemirror_mode": {
    "name": "ipython",
    "version": 3
   },
   "file_extension": ".py",
   "mimetype": "text/x-python",
   "name": "python",
   "nbconvert_exporter": "python",
   "pygments_lexer": "ipython3",
   "version": "3.12.4"
  }
 },
 "nbformat": 4,
 "nbformat_minor": 2
}
